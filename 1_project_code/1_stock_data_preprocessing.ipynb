{
 "cells": [
  {
   "cell_type": "code",
   "execution_count": 2,
   "id": "2f1e2af7",
   "metadata": {},
   "outputs": [],
   "source": [
    "# importing the required modules\n",
    "import glob\n",
    "import pandas as pd\n",
    "\n",
    "# specifying the path to csv files\n",
    "path = \"all_data\"\n",
    "  \n",
    "# csv files in the path\n",
    "files = glob.glob(path + \"/*.csv\")\n",
    "\n"
   ]
  },
  {
   "cell_type": "code",
   "execution_count": 3,
   "id": "b9b76809",
   "metadata": {},
   "outputs": [],
   "source": [
    "# defining an empty list to store \n",
    "# content\n",
    "data_frame = pd.DataFrame()\n",
    "content = []\n",
    "  "
   ]
  },
  {
   "cell_type": "code",
   "execution_count": 4,
   "id": "0e8d5ebe",
   "metadata": {},
   "outputs": [],
   "source": [
    "# checking all the csv files in the \n",
    "# specified path\n",
    "for filename in files:\n",
    "    \n",
    "    # reading content of csv file\n",
    "    # content.append(filename)\n",
    "    df = pd.read_csv(filename, index_col=None)\n",
    "    \n",
    "    columns_name=df.columns.to_list()\n",
    "    lenth=len(columns_name)\n",
    "    new_name=[]\n",
    "    \n",
    "    for i in range(lenth):\n",
    "        \n",
    "        if i==0:\n",
    "          new_name.append(\"Ratio\")\n",
    "         \n",
    "        else:\n",
    "         new_name.append(df.columns[i][0:4])\n",
    "         \n",
    "    old_name=tuple(columns_name)\n",
    "    new_name=tuple(new_name)\n",
    "    df.rename(columns={i:j for i,j in zip(old_name,new_name)}, inplace=True)\n",
    "    df.insert(loc=0, column='symbol', value=df.iloc[0][1])\n",
    "    df.drop(index=df.index[0], axis=0, inplace=True)\n",
    "    df.drop(index=df.index[0], axis=0, inplace=True)\n",
    "    df[\"Unique_Index\"] = df['symbol'].astype(str) +\"_\"+ df[\"Ratio\"]\n",
    "    \n",
    "    df.reset_index(drop=True,inplace=True)\n",
    "    \n",
    "    if df.columns[2]=='2022' and df.columns[3]=='2021' and df.columns[4]=='2020':\n",
    "       content.append(df)\n",
    "       \n",
    "  "
   ]
  },
  {
   "cell_type": "code",
   "execution_count": 5,
   "id": "f44f86dc",
   "metadata": {},
   "outputs": [],
   "source": [
    "# converting content to data frame\n",
    "common_cols = list(set.intersection(*(set(df.columns) for df in content)))\n",
    "common_cols.sort()\n",
    "\n",
    "data_frame = pd.concat([df[common_cols] for df in content], ignore_index=True)\n",
    "\n",
    "data_frame.to_excel('Recent 5 Year Combined.xlsx', engine='xlsxwriter')  "
   ]
  },
  {
   "cell_type": "code",
   "execution_count": null,
   "id": "de2cb7a2",
   "metadata": {},
   "outputs": [],
   "source": []
  }
 ],
 "metadata": {
  "kernelspec": {
   "display_name": "Python 3 (ipykernel)",
   "language": "python",
   "name": "python3"
  },
  "language_info": {
   "codemirror_mode": {
    "name": "ipython",
    "version": 3
   },
   "file_extension": ".py",
   "mimetype": "text/x-python",
   "name": "python",
   "nbconvert_exporter": "python",
   "pygments_lexer": "ipython3",
   "version": "3.9.13"
  }
 },
 "nbformat": 4,
 "nbformat_minor": 5
}
